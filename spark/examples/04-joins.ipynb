{
  "cells": [
    {
      "cell_type": "markdown",
      "metadata": {
        "id": "4M10EVsXFrd_"
      },
      "source": [
        "<a href=\"https://colab.research.google.com/github/lucprosa/dataeng-basic-course/blob/main/spark/examples/04-joins.ipynb\" target=\"_parent\"><img src=\"https://colab.research.google.com/assets/colab-badge.svg\" alt=\"Open In Colab\"/></a>"
      ]
    },
    {
      "cell_type": "markdown",
      "metadata": {
        "id": "BOA_wQSmLd9z"
      },
      "source": [
        "# Joins\n",
        "- inner join\n",
        "- left/right join\n",
        "- full join\n",
        "- left anti join\n",
        "- cartesian product\n",
        "- union/unionAll\n",
        "- minus\n",
        "- intersect"
      ]
    },
    {
      "cell_type": "markdown",
      "metadata": {
        "id": "d9LeYFsPTjAb"
      },
      "source": [
        "# Setting up PySpark"
      ]
    },
    {
      "cell_type": "code",
      "execution_count": null,
      "metadata": {
        "colab": {
          "base_uri": "https://localhost:8080/"
        },
        "id": "uYXeODL0T1fO",
        "outputId": "2132db63-8ad4-4165-ed36-ae3e20d82b4f"
      },
      "outputs": [
        {
          "output_type": "stream",
          "name": "stdout",
          "text": [
            "Requirement already satisfied: pyspark in /usr/local/lib/python3.10/dist-packages (3.5.3)\n",
            "Requirement already satisfied: py4j==0.10.9.7 in /usr/local/lib/python3.10/dist-packages (from pyspark) (0.10.9.7)\n"
          ]
        }
      ],
      "source": [
        "%pip install pyspark"
      ]
    },
    {
      "cell_type": "code",
      "execution_count": 1,
      "metadata": {
        "id": "637HFw00T3LP"
      },
      "outputs": [],
      "source": [
        "from pyspark.sql import SparkSession\n",
        "spark = SparkSession.builder.master('local').appName('Spark Course').config('spark.ui.port', '4050').getOrCreate()\n",
        "sc = spark.sparkContext"
      ]
    },
    {
      "cell_type": "code",
      "source": [
        "employee_data = [(\"101\", \"Chloe\", 3),\n",
        "            (\"102\", \"Paul\", 1),\n",
        "            (\"103\", \"John\", 1),\n",
        "            (\"104\", \"Lisa\", 2),\n",
        "            (\"105\", \"Evan\", 3),\n",
        "            (\"106\", \"Amy\", 3),\n",
        "            (\"107\", \"Jimmy\", 5)]\n",
        "dpto_data = [(\"1\", \"Engineering\"), (\"2\", \"Sales\"), (\"3\", \"Marketing\"), (\"4\", \"Finance\")]\n",
        "\n",
        "employee_columns = [\"id\", \"name\", \"dpto\"]\n",
        "dpto_columns = [\"dpto\", \"deptname\"]\n",
        "\n",
        "employee = sc.parallelize(employee_data).toDF(employee_columns)\n",
        "dpto = sc.parallelize(dpto_data).toDF(dpto_columns)"
      ],
      "metadata": {
        "id": "Us_jgkYJIhcT"
      },
      "execution_count": 2,
      "outputs": []
    },
    {
      "cell_type": "code",
      "source": [
        "# Employee's dtaframe\n",
        "employee.show()"
      ],
      "metadata": {
        "colab": {
          "base_uri": "https://localhost:8080/"
        },
        "id": "qudxqOymJj-s",
        "outputId": "23deff96-2912-41bd-8b81-9df95d3e2e12"
      },
      "execution_count": 3,
      "outputs": [
        {
          "output_type": "stream",
          "name": "stdout",
          "text": [
            "+---+-----+----+\n",
            "| id| name|dpto|\n",
            "+---+-----+----+\n",
            "|101|Chloe|   3|\n",
            "|102| Paul|   1|\n",
            "|103| John|   1|\n",
            "|104| Lisa|   2|\n",
            "|105| Evan|   3|\n",
            "|106|  Amy|   3|\n",
            "|107|Jimmy|   5|\n",
            "+---+-----+----+\n",
            "\n"
          ]
        }
      ]
    },
    {
      "cell_type": "code",
      "source": [
        "# Department's dtaframe\n",
        "dpto.show()"
      ],
      "metadata": {
        "colab": {
          "base_uri": "https://localhost:8080/"
        },
        "id": "RXHcXZIPLfhZ",
        "outputId": "6dadb125-d287-428c-ef2a-8c66d53257e4"
      },
      "execution_count": 4,
      "outputs": [
        {
          "output_type": "stream",
          "name": "stdout",
          "text": [
            "+----+-----------+\n",
            "|dpto|   deptname|\n",
            "+----+-----------+\n",
            "|   1|Engineering|\n",
            "|   2|      Sales|\n",
            "|   3|  Marketing|\n",
            "|   4|    Finance|\n",
            "+----+-----------+\n",
            "\n"
          ]
        }
      ]
    },
    {
      "cell_type": "markdown",
      "metadata": {
        "id": "a7dhl2LPFreE"
      },
      "source": [
        "# Joins"
      ]
    },
    {
      "cell_type": "code",
      "execution_count": 5,
      "metadata": {
        "colab": {
          "base_uri": "https://localhost:8080/"
        },
        "id": "3isk0KvuFreE",
        "outputId": "26609dbd-50d3-47e5-f0f8-6448759eef27"
      },
      "outputs": [
        {
          "output_type": "stream",
          "name": "stdout",
          "text": [
            "+----+---+-----+-----------+\n",
            "|dpto| id| name|   deptname|\n",
            "+----+---+-----+-----------+\n",
            "|   1|102| Paul|Engineering|\n",
            "|   1|103| John|Engineering|\n",
            "|   2|104| Lisa|      Sales|\n",
            "|   3|101|Chloe|  Marketing|\n",
            "|   3|105| Evan|  Marketing|\n",
            "|   3|106|  Amy|  Marketing|\n",
            "+----+---+-----+-----------+\n",
            "\n",
            "+---+-----+----+----+-----------+\n",
            "| id| name|dpto|dpto|   deptname|\n",
            "+---+-----+----+----+-----------+\n",
            "|102| Paul|   1|   1|Engineering|\n",
            "|103| John|   1|   1|Engineering|\n",
            "|104| Lisa|   2|   2|      Sales|\n",
            "|101|Chloe|   3|   3|  Marketing|\n",
            "|105| Evan|   3|   3|  Marketing|\n",
            "|106|  Amy|   3|   3|  Marketing|\n",
            "+---+-----+----+----+-----------+\n",
            "\n"
          ]
        }
      ],
      "source": [
        "# Inner join - exists on both sides\n",
        "employee.join(dpto, [\"dpto\"]).show()\n",
        "# or\n",
        "employee.join(dpto, employee[\"dpto\"] == dpto[\"dpto\"], how = \"inner\").show()"
      ]
    },
    {
      "cell_type": "code",
      "source": [
        "# Left join - bring everything from the left side + what exists on right side\n",
        "\n",
        "employee.join(dpto, [\"dpto\"], how = \"left\").show()"
      ],
      "metadata": {
        "colab": {
          "base_uri": "https://localhost:8080/"
        },
        "id": "7kH24QHgL9NE",
        "outputId": "8463e27c-ee4e-47eb-9f4b-bd8f74eccb5e"
      },
      "execution_count": 7,
      "outputs": [
        {
          "output_type": "stream",
          "name": "stdout",
          "text": [
            "+----+---+-----+-----------+\n",
            "|dpto| id| name|   deptname|\n",
            "+----+---+-----+-----------+\n",
            "|   5|107|Jimmy|       NULL|\n",
            "|   1|102| Paul|Engineering|\n",
            "|   1|103| John|Engineering|\n",
            "|   3|101|Chloe|  Marketing|\n",
            "|   3|105| Evan|  Marketing|\n",
            "|   3|106|  Amy|  Marketing|\n",
            "|   2|104| Lisa|      Sales|\n",
            "+----+---+-----+-----------+\n",
            "\n"
          ]
        }
      ]
    },
    {
      "cell_type": "code",
      "source": [
        "# Right join - bring everything from the right side + what exists on left side\n",
        "\n",
        "employee.join(dpto, [\"dpto\"], how = \"right\").show()"
      ],
      "metadata": {
        "colab": {
          "base_uri": "https://localhost:8080/"
        },
        "id": "0DvT6UdyM_0h",
        "outputId": "0a6a918b-8b7c-48f1-8fc6-af51ed5e40a0"
      },
      "execution_count": 11,
      "outputs": [
        {
          "output_type": "stream",
          "name": "stdout",
          "text": [
            "+----+----+-----+-----------+\n",
            "|dpto|  id| name|   deptname|\n",
            "+----+----+-----+-----------+\n",
            "|   1| 103| John|Engineering|\n",
            "|   1| 102| Paul|Engineering|\n",
            "|   3| 106|  Amy|  Marketing|\n",
            "|   3| 105| Evan|  Marketing|\n",
            "|   3| 101|Chloe|  Marketing|\n",
            "|   2| 104| Lisa|      Sales|\n",
            "|   4|NULL| NULL|    Finance|\n",
            "+----+----+-----+-----------+\n",
            "\n"
          ]
        }
      ]
    },
    {
      "cell_type": "code",
      "source": [
        "# Full join - bring everything from both side\n",
        "\n",
        "employee.join(dpto, employee[\"dpto\"] == dpto[\"dpto\"], how = \"full\").show()"
      ],
      "metadata": {
        "id": "cD5qkGyDNecI",
        "outputId": "ed5d7805-f82e-466c-94d2-4536dbe01850",
        "colab": {
          "base_uri": "https://localhost:8080/"
        }
      },
      "execution_count": 9,
      "outputs": [
        {
          "output_type": "stream",
          "name": "stdout",
          "text": [
            "+----+-----+----+----+-----------+\n",
            "|  id| name|dpto|dpto|   deptname|\n",
            "+----+-----+----+----+-----------+\n",
            "| 102| Paul|   1|   1|Engineering|\n",
            "| 103| John|   1|   1|Engineering|\n",
            "| 104| Lisa|   2|   2|      Sales|\n",
            "| 101|Chloe|   3|   3|  Marketing|\n",
            "| 105| Evan|   3|   3|  Marketing|\n",
            "| 106|  Amy|   3|   3|  Marketing|\n",
            "|NULL| NULL|NULL|   4|    Finance|\n",
            "| 107|Jimmy|   5|NULL|       NULL|\n",
            "+----+-----+----+----+-----------+\n",
            "\n"
          ]
        }
      ]
    },
    {
      "cell_type": "code",
      "source": [
        "# left Anti Join - Bring everything from the left that don´t exist on the right\n",
        "employee.join(dpto, employee[\"dpto\"] == dpto[\"dpto\"], how = \"left_anti\").show()\n",
        "\n",
        "# right Anti Join - Bring everything from the right that don´t exist on the left\n",
        "dpto.join(employee, employee[\"dpto\"] == dpto[\"dpto\"], how = \"left_anti\").show()"
      ],
      "metadata": {
        "id": "eg4IpMjJNkzP",
        "outputId": "0bed20a6-f4ab-428c-fa1c-e29203a5f64f",
        "colab": {
          "base_uri": "https://localhost:8080/"
        }
      },
      "execution_count": 10,
      "outputs": [
        {
          "output_type": "stream",
          "name": "stdout",
          "text": [
            "+---+-----+----+\n",
            "| id| name|dpto|\n",
            "+---+-----+----+\n",
            "|107|Jimmy|   5|\n",
            "+---+-----+----+\n",
            "\n",
            "+----+--------+\n",
            "|dpto|deptname|\n",
            "+----+--------+\n",
            "|   4| Finance|\n",
            "+----+--------+\n",
            "\n"
          ]
        }
      ]
    },
    {
      "cell_type": "markdown",
      "source": [
        "### Using SQL"
      ],
      "metadata": {
        "id": "37RxTSWRQLY9"
      }
    },
    {
      "cell_type": "code",
      "source": [
        "employee.createOrReplaceTempView(\"employee\")\n",
        "dpto.createOrReplaceTempView(\"dpto\")\n",
        "\n",
        "# bring all the employees with or without department\n",
        "spark.sql(\"select * from employee left join dpto using (dpto)\").show()"
      ],
      "metadata": {
        "id": "sWmJ_CmZQExG",
        "outputId": "ec0fa0f4-7908-4aff-c0c2-c4b64c6f6464",
        "colab": {
          "base_uri": "https://localhost:8080/"
        }
      },
      "execution_count": 25,
      "outputs": [
        {
          "output_type": "stream",
          "name": "stdout",
          "text": [
            "+----+---+-----+-----------+\n",
            "|dpto| id| name|   deptname|\n",
            "+----+---+-----+-----------+\n",
            "|   5|107|Jimmy|       NULL|\n",
            "|   1|102| Paul|Engineering|\n",
            "|   1|103| John|Engineering|\n",
            "|   3|101|Chloe|  Marketing|\n",
            "|   3|105| Evan|  Marketing|\n",
            "|   3|106|  Amy|  Marketing|\n",
            "|   2|104| Lisa|      Sales|\n",
            "+----+---+-----+-----------+\n",
            "\n"
          ]
        }
      ]
    },
    {
      "cell_type": "markdown",
      "source": [
        "# Union / Minus / Intersect"
      ],
      "metadata": {
        "id": "SLbibB0-Uhap"
      }
    },
    {
      "cell_type": "code",
      "source": [
        "employee_hr = employee\n",
        "\n",
        "data = [(200, \"George\", 5), (201, \"Anna\", 5), (202, \"Carl\", 3), (101, \"Chloe\", 3), (103, \"John\", 1), (106, \"Amy\", 1)]\n",
        "employee_erp = spark.createDataFrame(data, schema=[\"id\", \"name\", \"dpto\"])\n",
        "\n",
        "print(\"HR database\")\n",
        "employee_hr.show()\n",
        "\n",
        "print(\"ERP database\")\n",
        "employee_erp.show()"
      ],
      "metadata": {
        "id": "1Kv63IAYUmJy",
        "outputId": "b1ba999a-f8f1-44b8-f4b3-b2aecf8b8b8a",
        "colab": {
          "base_uri": "https://localhost:8080/"
        }
      },
      "execution_count": 12,
      "outputs": [
        {
          "output_type": "stream",
          "name": "stdout",
          "text": [
            "HR database\n",
            "+---+-----+----+\n",
            "| id| name|dpto|\n",
            "+---+-----+----+\n",
            "|101|Chloe|   3|\n",
            "|102| Paul|   1|\n",
            "|103| John|   1|\n",
            "|104| Lisa|   2|\n",
            "|105| Evan|   3|\n",
            "|106|  Amy|   3|\n",
            "|107|Jimmy|   5|\n",
            "+---+-----+----+\n",
            "\n",
            "ERP database\n",
            "+---+------+----+\n",
            "| id|  name|dpto|\n",
            "+---+------+----+\n",
            "|200|George|   5|\n",
            "|201|  Anna|   5|\n",
            "|202|  Carl|   3|\n",
            "|101| Chloe|   3|\n",
            "|103|  John|   1|\n",
            "|106|   Amy|   1|\n",
            "+---+------+----+\n",
            "\n"
          ]
        }
      ]
    },
    {
      "cell_type": "code",
      "source": [
        "# union / unionByName\n",
        "print(\"Combine both dataframes\")\n",
        "employee_hr.unionByName(employee_erp).show() # union, unionAll - does not handle distinct\n",
        "\n",
        "print(\"Get values that are common in both dataframes\")\n",
        "employee_hr.intersect(employee_erp).show()\n",
        "\n",
        "print(\"Get only the difference - does not exist on the second dataframe\")\n",
        "employee_hr.exceptAll(employee_erp).show()"
      ],
      "metadata": {
        "id": "61QkSnA7WjI8",
        "outputId": "257b3449-e91b-4fdc-8a04-4c8c311aa7a2",
        "colab": {
          "base_uri": "https://localhost:8080/"
        }
      },
      "execution_count": 13,
      "outputs": [
        {
          "output_type": "stream",
          "name": "stdout",
          "text": [
            "Combine both dataframes\n",
            "+---+------+----+\n",
            "| id|  name|dpto|\n",
            "+---+------+----+\n",
            "|101| Chloe|   3|\n",
            "|102|  Paul|   1|\n",
            "|103|  John|   1|\n",
            "|104|  Lisa|   2|\n",
            "|105|  Evan|   3|\n",
            "|106|   Amy|   3|\n",
            "|107| Jimmy|   5|\n",
            "|200|George|   5|\n",
            "|201|  Anna|   5|\n",
            "|202|  Carl|   3|\n",
            "|101| Chloe|   3|\n",
            "|103|  John|   1|\n",
            "|106|   Amy|   1|\n",
            "+---+------+----+\n",
            "\n",
            "Get values that are common in both dataframes\n",
            "+---+-----+----+\n",
            "| id| name|dpto|\n",
            "+---+-----+----+\n",
            "|101|Chloe|   3|\n",
            "|103| John|   1|\n",
            "+---+-----+----+\n",
            "\n",
            "Get only the difference - does not exist on the second dataframe\n",
            "+---+-----+----+\n",
            "| id| name|dpto|\n",
            "+---+-----+----+\n",
            "|106|  Amy|   3|\n",
            "|105| Evan|   3|\n",
            "|104| Lisa|   2|\n",
            "|102| Paul|   1|\n",
            "|107|Jimmy|   5|\n",
            "+---+-----+----+\n",
            "\n"
          ]
        }
      ]
    },
    {
      "cell_type": "code",
      "source": [
        "employee_hr.show()\n",
        "employee_hr.filter(employee_hr[\"dpto\"] == 3).show()\n",
        "employee_hr.where(employee_hr[\"dpto\"] == 3).show()"
      ],
      "metadata": {
        "id": "flC3a3f0Wgid",
        "outputId": "45f37c11-bd47-4ae4-c0f3-c5d079a639f8",
        "colab": {
          "base_uri": "https://localhost:8080/"
        }
      },
      "execution_count": 24,
      "outputs": [
        {
          "output_type": "stream",
          "name": "stdout",
          "text": [
            "+---+-----+----+\n",
            "| id| name|dpto|\n",
            "+---+-----+----+\n",
            "|101|Chloe|   3|\n",
            "|102| Paul|   1|\n",
            "|103| John|   1|\n",
            "|104| Lisa|   2|\n",
            "|105| Evan|   3|\n",
            "|106|  Amy|   3|\n",
            "|107|Jimmy|   5|\n",
            "+---+-----+----+\n",
            "\n",
            "+---+-----+----+\n",
            "| id| name|dpto|\n",
            "+---+-----+----+\n",
            "|101|Chloe|   3|\n",
            "|105| Evan|   3|\n",
            "|106|  Amy|   3|\n",
            "+---+-----+----+\n",
            "\n",
            "+---+-----+----+\n",
            "| id| name|dpto|\n",
            "+---+-----+----+\n",
            "|101|Chloe|   3|\n",
            "|105| Evan|   3|\n",
            "|106|  Amy|   3|\n",
            "+---+-----+----+\n",
            "\n"
          ]
        }
      ]
    },
    {
      "cell_type": "markdown",
      "source": [
        "# Questions"
      ],
      "metadata": {
        "id": "E_enboWOQF3x"
      }
    },
    {
      "cell_type": "code",
      "source": [
        "# Q1\n",
        "# Implement Cartesian Product using dataframe and SQL\n",
        "\n",
        "employee.crossJoin(dpto).show()\n",
        "spark.sql(\"select * from employee cross join dpto\").show()\n",
        "# Use employee and dpto"
      ],
      "metadata": {
        "id": "-SDXliPvNtnr",
        "outputId": "9b91575c-4edf-4783-e979-573a55fedbe4",
        "colab": {
          "base_uri": "https://localhost:8080/"
        }
      },
      "execution_count": 30,
      "outputs": [
        {
          "output_type": "stream",
          "name": "stdout",
          "text": [
            "+---+-----+----+----+-----------+\n",
            "| id| name|dpto|dpto|   deptname|\n",
            "+---+-----+----+----+-----------+\n",
            "|101|Chloe|   3|   1|Engineering|\n",
            "|101|Chloe|   3|   2|      Sales|\n",
            "|101|Chloe|   3|   3|  Marketing|\n",
            "|101|Chloe|   3|   4|    Finance|\n",
            "|102| Paul|   1|   1|Engineering|\n",
            "|102| Paul|   1|   2|      Sales|\n",
            "|102| Paul|   1|   3|  Marketing|\n",
            "|102| Paul|   1|   4|    Finance|\n",
            "|103| John|   1|   1|Engineering|\n",
            "|103| John|   1|   2|      Sales|\n",
            "|103| John|   1|   3|  Marketing|\n",
            "|103| John|   1|   4|    Finance|\n",
            "|104| Lisa|   2|   1|Engineering|\n",
            "|104| Lisa|   2|   2|      Sales|\n",
            "|104| Lisa|   2|   3|  Marketing|\n",
            "|104| Lisa|   2|   4|    Finance|\n",
            "|105| Evan|   3|   1|Engineering|\n",
            "|105| Evan|   3|   2|      Sales|\n",
            "|105| Evan|   3|   3|  Marketing|\n",
            "|105| Evan|   3|   4|    Finance|\n",
            "+---+-----+----+----+-----------+\n",
            "only showing top 20 rows\n",
            "\n",
            "+---+-----+----+----+-----------+\n",
            "| id| name|dpto|dpto|   deptname|\n",
            "+---+-----+----+----+-----------+\n",
            "|101|Chloe|   3|   1|Engineering|\n",
            "|101|Chloe|   3|   2|      Sales|\n",
            "|101|Chloe|   3|   3|  Marketing|\n",
            "|101|Chloe|   3|   4|    Finance|\n",
            "|102| Paul|   1|   1|Engineering|\n",
            "|102| Paul|   1|   2|      Sales|\n",
            "|102| Paul|   1|   3|  Marketing|\n",
            "|102| Paul|   1|   4|    Finance|\n",
            "|103| John|   1|   1|Engineering|\n",
            "|103| John|   1|   2|      Sales|\n",
            "|103| John|   1|   3|  Marketing|\n",
            "|103| John|   1|   4|    Finance|\n",
            "|104| Lisa|   2|   1|Engineering|\n",
            "|104| Lisa|   2|   2|      Sales|\n",
            "|104| Lisa|   2|   3|  Marketing|\n",
            "|104| Lisa|   2|   4|    Finance|\n",
            "|105| Evan|   3|   1|Engineering|\n",
            "|105| Evan|   3|   2|      Sales|\n",
            "|105| Evan|   3|   3|  Marketing|\n",
            "|105| Evan|   3|   4|    Finance|\n",
            "+---+-----+----+----+-----------+\n",
            "only showing top 20 rows\n",
            "\n"
          ]
        }
      ]
    },
    {
      "cell_type": "code",
      "source": [
        "dpto.show()\n",
        "employee.show()"
      ],
      "metadata": {
        "id": "eM2oNbqrYry4",
        "outputId": "f5490e5d-35d3-46e3-baab-a7c86f470ad8",
        "colab": {
          "base_uri": "https://localhost:8080/"
        }
      },
      "execution_count": 32,
      "outputs": [
        {
          "output_type": "stream",
          "name": "stdout",
          "text": [
            "+----+-----------+\n",
            "|dpto|   deptname|\n",
            "+----+-----------+\n",
            "|   1|Engineering|\n",
            "|   2|      Sales|\n",
            "|   3|  Marketing|\n",
            "|   4|    Finance|\n",
            "+----+-----------+\n",
            "\n",
            "+---+-----+----+\n",
            "| id| name|dpto|\n",
            "+---+-----+----+\n",
            "|101|Chloe|   3|\n",
            "|102| Paul|   1|\n",
            "|103| John|   1|\n",
            "|104| Lisa|   2|\n",
            "|105| Evan|   3|\n",
            "|106|  Amy|   3|\n",
            "|107|Jimmy|   5|\n",
            "+---+-----+----+\n",
            "\n"
          ]
        }
      ]
    },
    {
      "cell_type": "code",
      "source": [
        "# Q2\n",
        "# Implement \"Left Anti Join\" using SQL\n",
        "employee.join(dpto, [\"dpto\"], how=\"left_anti\").show()\n",
        "# Use employee and dpto"
      ],
      "metadata": {
        "id": "EjiSSK6HOsGS",
        "outputId": "a2cc9151-287d-423e-cc9d-d9b430ccea2d",
        "colab": {
          "base_uri": "https://localhost:8080/"
        }
      },
      "execution_count": 31,
      "outputs": [
        {
          "output_type": "stream",
          "name": "stdout",
          "text": [
            "+----+---+-----+\n",
            "|dpto| id| name|\n",
            "+----+---+-----+\n",
            "|   5|107|Jimmy|\n",
            "+----+---+-----+\n",
            "\n"
          ]
        }
      ]
    },
    {
      "cell_type": "code",
      "source": [
        "spark.sql(\"select * from employee left anti join dpto using (dpto)\").show()\n"
      ],
      "metadata": {
        "id": "YbasO_MQY9R4",
        "outputId": "4e83c512-dc3e-4167-caae-5fb4140b14c2",
        "colab": {
          "base_uri": "https://localhost:8080/"
        }
      },
      "execution_count": 33,
      "outputs": [
        {
          "output_type": "stream",
          "name": "stdout",
          "text": [
            "+----+---+-----+\n",
            "|dpto| id| name|\n",
            "+----+---+-----+\n",
            "|   5|107|Jimmy|\n",
            "+----+---+-----+\n",
            "\n"
          ]
        }
      ]
    },
    {
      "cell_type": "code",
      "source": [
        "\n",
        "\n",
        "from pyspark.sql.functions import  col, upper\n",
        "\n",
        "# apply lambda function to all values in name for employees\n",
        "employee.withColumn(\"name\", upper(col(\"name\"))).show()"
      ],
      "metadata": {
        "id": "gLTah4L0ZK3U",
        "outputId": "e71aa420-f179-4122-d2b9-da455595e12c",
        "colab": {
          "base_uri": "https://localhost:8080/"
        }
      },
      "execution_count": 59,
      "outputs": [
        {
          "output_type": "stream",
          "name": "stdout",
          "text": [
            "+---+-----+----+\n",
            "| id| name|dpto|\n",
            "+---+-----+----+\n",
            "|101|CHLOE|   3|\n",
            "|102| PAUL|   1|\n",
            "|103| JOHN|   1|\n",
            "|104| LISA|   2|\n",
            "|105| EVAN|   3|\n",
            "|106|  AMY|   3|\n",
            "|107|JIMMY|   5|\n",
            "+---+-----+----+\n",
            "\n"
          ]
        }
      ]
    },
    {
      "cell_type": "code",
      "source": [
        "! git status\n"
      ],
      "metadata": {
        "id": "rc-wViyZZWKy",
        "outputId": "73f71277-486a-47e1-c2d3-e2af42e90333",
        "colab": {
          "base_uri": "https://localhost:8080/"
        }
      },
      "execution_count": 60,
      "outputs": [
        {
          "output_type": "stream",
          "name": "stdout",
          "text": [
            "fatal: not a git repository (or any of the parent directories): .git\n"
          ]
        }
      ]
    }
  ],
  "metadata": {
    "colab": {
      "provenance": []
    },
    "kernelspec": {
      "display_name": "Python 3",
      "name": "python3"
    },
    "language_info": {
      "name": "python"
    }
  },
  "nbformat": 4,
  "nbformat_minor": 0
}