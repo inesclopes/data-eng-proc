{
  "cells": [
    {
      "cell_type": "markdown",
      "metadata": {
        "id": "view-in-github",
        "colab_type": "text"
      },
      "source": [
        "<a href=\"https://colab.research.google.com/github/inesclopes/data-eng-proc/blob/main/spark/examples/05-aggregations.ipynb\" target=\"_parent\"><img src=\"https://colab.research.google.com/assets/colab-badge.svg\" alt=\"Open In Colab\"/></a>"
      ]
    },
    {
      "cell_type": "markdown",
      "metadata": {
        "id": "-y331t1OSI1s"
      },
      "source": [
        "<a href=\"https://colab.research.google.com/github/lucprosa/dataeng-basic-course/blob/main/spark/examples/05-aggregations.ipynb\" target=\"_parent\"><img src=\"https://colab.research.google.com/assets/colab-badge.svg\" alt=\"Open In Colab\"/></a>"
      ]
    },
    {
      "cell_type": "markdown",
      "metadata": {
        "id": "BOA_wQSmLd9z"
      },
      "source": [
        "# Aggregations\n",
        "- Group By\n",
        "- Windows Functions"
      ]
    },
    {
      "cell_type": "markdown",
      "metadata": {
        "id": "d9LeYFsPTjAb"
      },
      "source": [
        "# Setting up PySpark"
      ]
    },
    {
      "cell_type": "code",
      "execution_count": null,
      "metadata": {
        "colab": {
          "base_uri": "https://localhost:8080/"
        },
        "id": "uYXeODL0T1fO",
        "outputId": "c410e46c-4a50-43aa-926f-d0417c6280d2"
      },
      "outputs": [
        {
          "name": "stdout",
          "output_type": "stream",
          "text": [
            "Requirement already satisfied: pyspark in /usr/local/lib/python3.10/dist-packages (3.5.3)\n",
            "Requirement already satisfied: py4j==0.10.9.7 in /usr/local/lib/python3.10/dist-packages (from pyspark) (0.10.9.7)\n"
          ]
        }
      ],
      "source": [
        "%pip install pyspark"
      ]
    },
    {
      "cell_type": "code",
      "execution_count": 3,
      "metadata": {
        "id": "637HFw00T3LP"
      },
      "outputs": [],
      "source": [
        "from pyspark.sql import SparkSession\n",
        "spark = SparkSession.builder.master('local').appName('Spark Course').config('spark.ui.port', '4050').getOrCreate()"
      ]
    },
    {
      "cell_type": "markdown",
      "metadata": {
        "id": "SLiYPwuJSI1w"
      },
      "source": [
        "# Aggregations\n",
        "\n",
        "https://spark.apache.org/docs/latest/sql-ref-functions-builtin.html#aggregate-functions\n",
        "\n",
        "https://spark.apache.org/docs/latest/sql-ref-syntax-qry-select-aggregate.html"
      ]
    },
    {
      "cell_type": "code",
      "execution_count": 68,
      "metadata": {
        "colab": {
          "base_uri": "https://localhost:8080/"
        },
        "id": "GPdtlX5BSI1w",
        "outputId": "7463522b-653c-4fa0-eb1f-ba5efc5bee4c"
      },
      "outputs": [
        {
          "output_type": "stream",
          "name": "stdout",
          "text": [
            "+-----------------+----------+------+\n",
            "|    employee_name|department|salary|\n",
            "+-----------------+----------+------+\n",
            "|     Diane Murphy|Accounting|  8435|\n",
            "|   Mary Patterson|Accounting|  9998|\n",
            "|    Jeff Firrelli|Accounting|  8992|\n",
            "|William Patterson|Accounting|  8870|\n",
            "|    Gerard Bondur|Accounting| 11472|\n",
            "|      Anthony Bow|Accounting|  6627|\n",
            "|  Leslie Jennings|        IT|  8113|\n",
            "|  Leslie Thompson|        IT|  5186|\n",
            "|   Julie Firrelli|     Sales|  9181|\n",
            "|  Steve Patterson|     Sales|  9441|\n",
            "|   Foon Yue Tseng|     Sales|  6660|\n",
            "|    George Vanauf|     Sales| 10563|\n",
            "|      Loui Bondur|       SCM| 10449|\n",
            "| Gerard Hernandez|       SCM|  6949|\n",
            "|  Pamela Castillo|       SCM| 11303|\n",
            "|       Larry Bott|       SCM| 11798|\n",
            "|      Barry Jones|       SCM| 10586|\n",
            "+-----------------+----------+------+\n",
            "\n"
          ]
        }
      ],
      "source": [
        "sql_query = \"\"\"CREATE OR REPLACE TEMPORARY VIEW basic_pays AS SELECT * FROM VALUES\n",
        "('Diane Murphy','Accounting',8435),\n",
        "('Mary Patterson','Accounting',9998),\n",
        "('Jeff Firrelli','Accounting',8992),\n",
        "('William Patterson','Accounting',8870),\n",
        "('Gerard Bondur','Accounting',11472),\n",
        "('Anthony Bow','Accounting',6627),\n",
        "('Leslie Jennings','IT',8113),\n",
        "('Leslie Thompson','IT',5186),\n",
        "('Julie Firrelli','Sales',9181),\n",
        "('Steve Patterson','Sales',9441),\n",
        "('Foon Yue Tseng','Sales',6660),\n",
        "('George Vanauf','Sales',10563),\n",
        "('Loui Bondur','SCM',10449),\n",
        "('Gerard Hernandez','SCM',6949),\n",
        "('Pamela Castillo','SCM',11303),\n",
        "('Larry Bott','SCM',11798),\n",
        "('Barry Jones','SCM',10586)\n",
        "AS basic_pays(employee_name, department, salary)\"\"\"\n",
        "\n",
        "# creating temp view\n",
        "spark.sql(sql_query)\n",
        "\n",
        "df = spark.table(\"basic_pays\")\n",
        "df.show()\n"
      ]
    },
    {
      "cell_type": "code",
      "source": [
        "(df.groupBy(\"department\").agg(sum(\"salary\")).show())"
      ],
      "metadata": {
        "id": "eLqvUVPReKtu",
        "outputId": "58816ec2-dbfe-466e-c59d-aa4c2936376c",
        "colab": {
          "base_uri": "https://localhost:8080/"
        }
      },
      "execution_count": 69,
      "outputs": [
        {
          "output_type": "stream",
          "name": "stdout",
          "text": [
            "+----------+-----------+\n",
            "|department|sum(salary)|\n",
            "+----------+-----------+\n",
            "|     Sales|      35845|\n",
            "|Accounting|      54394|\n",
            "|       SCM|      51085|\n",
            "|        IT|      13299|\n",
            "+----------+-----------+\n",
            "\n"
          ]
        }
      ]
    },
    {
      "cell_type": "code",
      "source": [
        "perc_query = \"\"\"SELECT\n",
        "    department,\n",
        "    percentile_cont(0.25) WITHIN GROUP (ORDER BY salary) AS pc1,\n",
        "    percentile_cont(0.25) WITHIN GROUP (ORDER BY salary) FILTER (WHERE employee_name LIKE '%Bo%') AS pc2,\n",
        "    percentile_cont(0.25) WITHIN GROUP (ORDER BY salary DESC) AS pc3,\n",
        "    percentile_cont(0.25) WITHIN GROUP (ORDER BY salary DESC) FILTER (WHERE employee_name LIKE '%Bo%') AS pc4,\n",
        "    percentile_disc(0.25) WITHIN GROUP (ORDER BY salary) AS pd1,\n",
        "    percentile_disc(0.25) WITHIN GROUP (ORDER BY salary) FILTER (WHERE employee_name LIKE '%Bo%') AS pd2,\n",
        "    percentile_disc(0.25) WITHIN GROUP (ORDER BY salary DESC) AS pd3,\n",
        "    percentile_disc(0.25) WITHIN GROUP (ORDER BY salary DESC) FILTER (WHERE employee_name LIKE '%Bo%') AS pd4\n",
        "FROM basic_pays\n",
        "GROUP BY department\n",
        "ORDER BY department;\"\"\"\n",
        "\n",
        "spark.sql(perc_query).show()"
      ],
      "metadata": {
        "colab": {
          "base_uri": "https://localhost:8080/"
        },
        "id": "Aa38HFEQVSM9",
        "outputId": "3ca0c3e0-d8e8-4ed9-c679-d45a0a07da67"
      },
      "execution_count": 6,
      "outputs": [
        {
          "output_type": "stream",
          "name": "stdout",
          "text": [
            "+----------+-------+--------+-------+--------+-------+-------+-------+-------+\n",
            "|department|    pc1|     pc2|    pc3|     pc4|    pd1|    pd2|    pd3|    pd4|\n",
            "+----------+-------+--------+-------+--------+-------+-------+-------+-------+\n",
            "|Accounting|8543.75| 7838.25| 9746.5|10260.75| 8435.0| 6627.0| 9998.0|11472.0|\n",
            "|        IT|5917.75|    NULL|7381.25|    NULL| 5186.0|   NULL| 8113.0|   NULL|\n",
            "|       SCM|10449.0|10786.25|11303.0|11460.75|10449.0|10449.0|11303.0|11798.0|\n",
            "|     Sales|8550.75|    NULL| 9721.5|    NULL| 6660.0|   NULL|10563.0|   NULL|\n",
            "+----------+-------+--------+-------+--------+-------+-------+-------+-------+\n",
            "\n"
          ]
        }
      ]
    },
    {
      "cell_type": "code",
      "source": [
        "from pyspark.sql.functions import *\n",
        "(df\n",
        " .groupBy(\"department\")\n",
        " .agg(sum(\"salary\").alias(\"sum_salary\"),\n",
        "      round(avg(\"salary\"),2).alias(\"avg_salary\"),\n",
        "      min(\"salary\").alias(\"min_salary\"),\n",
        "      array_agg(\"employee_name\").alias(\"employees\"),\n",
        "      count(lit(\"\")).alias(\"count_employees\"))\n",
        " .filter(col(\"count_employees\") > 2)\n",
        " .show(10, truncate=False))"
      ],
      "metadata": {
        "colab": {
          "base_uri": "https://localhost:8080/"
        },
        "id": "ZbfHHI_wYJge",
        "outputId": "a3c5aab3-f541-4d40-90ab-852db45c534e"
      },
      "execution_count": 70,
      "outputs": [
        {
          "output_type": "stream",
          "name": "stdout",
          "text": [
            "+----------+----------+----------+----------+--------------------------------------------------------------------------------------------+---------------+\n",
            "|department|sum_salary|avg_salary|min_salary|employees                                                                                   |count_employees|\n",
            "+----------+----------+----------+----------+--------------------------------------------------------------------------------------------+---------------+\n",
            "|Sales     |35845     |8961.25   |6660      |[Julie Firrelli, Steve Patterson, Foon Yue Tseng, George Vanauf]                            |4              |\n",
            "|Accounting|54394     |9065.67   |6627      |[Diane Murphy, Mary Patterson, Jeff Firrelli, William Patterson, Gerard Bondur, Anthony Bow]|6              |\n",
            "|SCM       |51085     |10217.0   |6949      |[Loui Bondur, Gerard Hernandez, Pamela Castillo, Larry Bott, Barry Jones]                   |5              |\n",
            "+----------+----------+----------+----------+--------------------------------------------------------------------------------------------+---------------+\n",
            "\n"
          ]
        }
      ]
    },
    {
      "cell_type": "code",
      "source": [
        "df.show()\n"
      ],
      "metadata": {
        "id": "IP49Ro1qgZcl",
        "outputId": "721fdf2a-d705-4148-afd6-8316ccbdb6f6",
        "colab": {
          "base_uri": "https://localhost:8080/"
        }
      },
      "execution_count": 71,
      "outputs": [
        {
          "output_type": "stream",
          "name": "stdout",
          "text": [
            "+-----------------+----------+------+\n",
            "|    employee_name|department|salary|\n",
            "+-----------------+----------+------+\n",
            "|     Diane Murphy|Accounting|  8435|\n",
            "|   Mary Patterson|Accounting|  9998|\n",
            "|    Jeff Firrelli|Accounting|  8992|\n",
            "|William Patterson|Accounting|  8870|\n",
            "|    Gerard Bondur|Accounting| 11472|\n",
            "|      Anthony Bow|Accounting|  6627|\n",
            "|  Leslie Jennings|        IT|  8113|\n",
            "|  Leslie Thompson|        IT|  5186|\n",
            "|   Julie Firrelli|     Sales|  9181|\n",
            "|  Steve Patterson|     Sales|  9441|\n",
            "|   Foon Yue Tseng|     Sales|  6660|\n",
            "|    George Vanauf|     Sales| 10563|\n",
            "|      Loui Bondur|       SCM| 10449|\n",
            "| Gerard Hernandez|       SCM|  6949|\n",
            "|  Pamela Castillo|       SCM| 11303|\n",
            "|       Larry Bott|       SCM| 11798|\n",
            "|      Barry Jones|       SCM| 10586|\n",
            "+-----------------+----------+------+\n",
            "\n"
          ]
        }
      ]
    },
    {
      "cell_type": "markdown",
      "source": [],
      "metadata": {
        "id": "aDZwfMptg0qm"
      }
    },
    {
      "cell_type": "code",
      "source": [
        "df.withColumn(\"department\", concat(col(\"department\"), lit(\"_ts\"))).show()"
      ],
      "metadata": {
        "id": "OWLXFhCNd4Ih",
        "outputId": "553555b2-2650-49ae-fff0-59a1242ee120",
        "colab": {
          "base_uri": "https://localhost:8080/"
        }
      },
      "execution_count": 72,
      "outputs": [
        {
          "output_type": "stream",
          "name": "stdout",
          "text": [
            "+-----------------+-------------+------+\n",
            "|    employee_name|   department|salary|\n",
            "+-----------------+-------------+------+\n",
            "|     Diane Murphy|Accounting_ts|  8435|\n",
            "|   Mary Patterson|Accounting_ts|  9998|\n",
            "|    Jeff Firrelli|Accounting_ts|  8992|\n",
            "|William Patterson|Accounting_ts|  8870|\n",
            "|    Gerard Bondur|Accounting_ts| 11472|\n",
            "|      Anthony Bow|Accounting_ts|  6627|\n",
            "|  Leslie Jennings|        IT_ts|  8113|\n",
            "|  Leslie Thompson|        IT_ts|  5186|\n",
            "|   Julie Firrelli|     Sales_ts|  9181|\n",
            "|  Steve Patterson|     Sales_ts|  9441|\n",
            "|   Foon Yue Tseng|     Sales_ts|  6660|\n",
            "|    George Vanauf|     Sales_ts| 10563|\n",
            "|      Loui Bondur|       SCM_ts| 10449|\n",
            "| Gerard Hernandez|       SCM_ts|  6949|\n",
            "|  Pamela Castillo|       SCM_ts| 11303|\n",
            "|       Larry Bott|       SCM_ts| 11798|\n",
            "|      Barry Jones|       SCM_ts| 10586|\n",
            "+-----------------+-------------+------+\n",
            "\n"
          ]
        }
      ]
    },
    {
      "cell_type": "code",
      "source": [
        "from pyspark.sql import functions as F"
      ],
      "metadata": {
        "id": "OD4lXpR2hIzu"
      },
      "execution_count": 90,
      "outputs": []
    },
    {
      "cell_type": "markdown",
      "source": [
        "# Question"
      ],
      "metadata": {
        "id": "HQjSVZgFbiUs"
      }
    },
    {
      "cell_type": "code",
      "source": [
        "# Q1\n",
        "# Aggregate data by surname\n",
        "# Calculate highest salary by surname\n",
        "# Include the respective employee that has the highest salary\n",
        "# Include department information about this employee\n",
        "# Count how many employees has that surname\n",
        "# Put in an array all the first_names of the respective surname ordered\n",
        "\n",
        "\n",
        "# schema expected:\n",
        "# surname | count_employees | highest_salary | employee_with_highest_salary | department_with_highest_salary | array_with_all_the_first_names |"
      ],
      "metadata": {
        "id": "sAB_dzZabf_o"
      },
      "execution_count": null,
      "outputs": []
    },
    {
      "cell_type": "code",
      "source": [
        "(df\n",
        " .withColumn(\"array\", split('employee_name',\"\\s\"))\n",
        " .withColumn(\"surname\", last(col(\"array\")))\n",
        "\n",
        " .show())"
      ],
      "metadata": {
        "id": "WUy6L2fvkMEW",
        "outputId": "f792b6fa-4834-4085-ff17-3abeee6679e0",
        "colab": {
          "base_uri": "https://localhost:8080/",
          "height": 539
        }
      },
      "execution_count": 86,
      "outputs": [
        {
          "output_type": "error",
          "ename": "AnalysisException",
          "evalue": "[MISSING_GROUP_BY] The query does not include a GROUP BY clause. Add GROUP BY or turn it into the window functions using OVER clauses.;\nAggregate [employee_name#1624, department#1625, salary#1626, array#2001, last(array#2001, false) AS surname#2007]\n+- Project [employee_name#1624, department#1625, salary#1626, split(employee_name#1624, \\s, -1) AS array#2001]\n   +- SubqueryAlias basic_pays\n      +- View (`basic_pays`, [employee_name#1624,department#1625,salary#1626])\n         +- Project [cast(employee_name#1627 as string) AS employee_name#1624, cast(department#1628 as string) AS department#1625, cast(salary#1629 as int) AS salary#1626]\n            +- Project [employee_name#1627, department#1628, salary#1629]\n               +- SubqueryAlias basic_pays\n                  +- LocalRelation [employee_name#1627, department#1628, salary#1629]\n",
          "traceback": [
            "\u001b[0;31m---------------------------------------------------------------------------\u001b[0m",
            "\u001b[0;31mAnalysisException\u001b[0m                         Traceback (most recent call last)",
            "\u001b[0;32m<ipython-input-86-63119a034e0a>\u001b[0m in \u001b[0;36m<cell line: 1>\u001b[0;34m()\u001b[0m\n\u001b[1;32m      1\u001b[0m (df\n\u001b[1;32m      2\u001b[0m  \u001b[0;34m.\u001b[0m\u001b[0mwithColumn\u001b[0m\u001b[0;34m(\u001b[0m\u001b[0;34m\"array\"\u001b[0m\u001b[0;34m,\u001b[0m \u001b[0msplit\u001b[0m\u001b[0;34m(\u001b[0m\u001b[0;34m'employee_name'\u001b[0m\u001b[0;34m,\u001b[0m\u001b[0;34m\"\\s\"\u001b[0m\u001b[0;34m)\u001b[0m\u001b[0;34m)\u001b[0m\u001b[0;34m\u001b[0m\u001b[0;34m\u001b[0m\u001b[0m\n\u001b[0;32m----> 3\u001b[0;31m  \u001b[0;34m.\u001b[0m\u001b[0mwithColumn\u001b[0m\u001b[0;34m(\u001b[0m\u001b[0;34m\"surname\"\u001b[0m\u001b[0;34m,\u001b[0m \u001b[0mlast\u001b[0m\u001b[0;34m(\u001b[0m\u001b[0mcol\u001b[0m\u001b[0;34m(\u001b[0m\u001b[0;34m\"array\"\u001b[0m\u001b[0;34m)\u001b[0m\u001b[0;34m)\u001b[0m\u001b[0;34m)\u001b[0m\u001b[0;34m\u001b[0m\u001b[0;34m\u001b[0m\u001b[0m\n\u001b[0m\u001b[1;32m      4\u001b[0m \u001b[0;34m\u001b[0m\u001b[0m\n\u001b[1;32m      5\u001b[0m  .show())\n",
            "\u001b[0;32m/usr/local/lib/python3.10/dist-packages/pyspark/sql/dataframe.py\u001b[0m in \u001b[0;36mwithColumn\u001b[0;34m(self, colName, col)\u001b[0m\n\u001b[1;32m   5174\u001b[0m                 \u001b[0mmessage_parameters\u001b[0m\u001b[0;34m=\u001b[0m\u001b[0;34m{\u001b[0m\u001b[0;34m\"arg_name\"\u001b[0m\u001b[0;34m:\u001b[0m \u001b[0;34m\"col\"\u001b[0m\u001b[0;34m,\u001b[0m \u001b[0;34m\"arg_type\"\u001b[0m\u001b[0;34m:\u001b[0m \u001b[0mtype\u001b[0m\u001b[0;34m(\u001b[0m\u001b[0mcol\u001b[0m\u001b[0;34m)\u001b[0m\u001b[0;34m.\u001b[0m\u001b[0m__name__\u001b[0m\u001b[0;34m}\u001b[0m\u001b[0;34m,\u001b[0m\u001b[0;34m\u001b[0m\u001b[0;34m\u001b[0m\u001b[0m\n\u001b[1;32m   5175\u001b[0m             )\n\u001b[0;32m-> 5176\u001b[0;31m         \u001b[0;32mreturn\u001b[0m \u001b[0mDataFrame\u001b[0m\u001b[0;34m(\u001b[0m\u001b[0mself\u001b[0m\u001b[0;34m.\u001b[0m\u001b[0m_jdf\u001b[0m\u001b[0;34m.\u001b[0m\u001b[0mwithColumn\u001b[0m\u001b[0;34m(\u001b[0m\u001b[0mcolName\u001b[0m\u001b[0;34m,\u001b[0m \u001b[0mcol\u001b[0m\u001b[0;34m.\u001b[0m\u001b[0m_jc\u001b[0m\u001b[0;34m)\u001b[0m\u001b[0;34m,\u001b[0m \u001b[0mself\u001b[0m\u001b[0;34m.\u001b[0m\u001b[0msparkSession\u001b[0m\u001b[0;34m)\u001b[0m\u001b[0;34m\u001b[0m\u001b[0;34m\u001b[0m\u001b[0m\n\u001b[0m\u001b[1;32m   5177\u001b[0m \u001b[0;34m\u001b[0m\u001b[0m\n\u001b[1;32m   5178\u001b[0m     \u001b[0;32mdef\u001b[0m \u001b[0mwithColumnRenamed\u001b[0m\u001b[0;34m(\u001b[0m\u001b[0mself\u001b[0m\u001b[0;34m,\u001b[0m \u001b[0mexisting\u001b[0m\u001b[0;34m:\u001b[0m \u001b[0mstr\u001b[0m\u001b[0;34m,\u001b[0m \u001b[0mnew\u001b[0m\u001b[0;34m:\u001b[0m \u001b[0mstr\u001b[0m\u001b[0;34m)\u001b[0m \u001b[0;34m->\u001b[0m \u001b[0;34m\"DataFrame\"\u001b[0m\u001b[0;34m:\u001b[0m\u001b[0;34m\u001b[0m\u001b[0;34m\u001b[0m\u001b[0m\n",
            "\u001b[0;32m/usr/local/lib/python3.10/dist-packages/py4j/java_gateway.py\u001b[0m in \u001b[0;36m__call__\u001b[0;34m(self, *args)\u001b[0m\n\u001b[1;32m   1320\u001b[0m \u001b[0;34m\u001b[0m\u001b[0m\n\u001b[1;32m   1321\u001b[0m         \u001b[0manswer\u001b[0m \u001b[0;34m=\u001b[0m \u001b[0mself\u001b[0m\u001b[0;34m.\u001b[0m\u001b[0mgateway_client\u001b[0m\u001b[0;34m.\u001b[0m\u001b[0msend_command\u001b[0m\u001b[0;34m(\u001b[0m\u001b[0mcommand\u001b[0m\u001b[0;34m)\u001b[0m\u001b[0;34m\u001b[0m\u001b[0;34m\u001b[0m\u001b[0m\n\u001b[0;32m-> 1322\u001b[0;31m         return_value = get_return_value(\n\u001b[0m\u001b[1;32m   1323\u001b[0m             answer, self.gateway_client, self.target_id, self.name)\n\u001b[1;32m   1324\u001b[0m \u001b[0;34m\u001b[0m\u001b[0m\n",
            "\u001b[0;32m/usr/local/lib/python3.10/dist-packages/pyspark/errors/exceptions/captured.py\u001b[0m in \u001b[0;36mdeco\u001b[0;34m(*a, **kw)\u001b[0m\n\u001b[1;32m    183\u001b[0m                 \u001b[0;31m# Hide where the exception came from that shows a non-Pythonic\u001b[0m\u001b[0;34m\u001b[0m\u001b[0;34m\u001b[0m\u001b[0m\n\u001b[1;32m    184\u001b[0m                 \u001b[0;31m# JVM exception message.\u001b[0m\u001b[0;34m\u001b[0m\u001b[0;34m\u001b[0m\u001b[0m\n\u001b[0;32m--> 185\u001b[0;31m                 \u001b[0;32mraise\u001b[0m \u001b[0mconverted\u001b[0m \u001b[0;32mfrom\u001b[0m \u001b[0;32mNone\u001b[0m\u001b[0;34m\u001b[0m\u001b[0;34m\u001b[0m\u001b[0m\n\u001b[0m\u001b[1;32m    186\u001b[0m             \u001b[0;32melse\u001b[0m\u001b[0;34m:\u001b[0m\u001b[0;34m\u001b[0m\u001b[0;34m\u001b[0m\u001b[0m\n\u001b[1;32m    187\u001b[0m                 \u001b[0;32mraise\u001b[0m\u001b[0;34m\u001b[0m\u001b[0;34m\u001b[0m\u001b[0m\n",
            "\u001b[0;31mAnalysisException\u001b[0m: [MISSING_GROUP_BY] The query does not include a GROUP BY clause. Add GROUP BY or turn it into the window functions using OVER clauses.;\nAggregate [employee_name#1624, department#1625, salary#1626, array#2001, last(array#2001, false) AS surname#2007]\n+- Project [employee_name#1624, department#1625, salary#1626, split(employee_name#1624, \\s, -1) AS array#2001]\n   +- SubqueryAlias basic_pays\n      +- View (`basic_pays`, [employee_name#1624,department#1625,salary#1626])\n         +- Project [cast(employee_name#1627 as string) AS employee_name#1624, cast(department#1628 as string) AS department#1625, cast(salary#1629 as int) AS salary#1626]\n            +- Project [employee_name#1627, department#1628, salary#1629]\n               +- SubqueryAlias basic_pays\n                  +- LocalRelation [employee_name#1627, department#1628, salary#1629]\n"
          ]
        }
      ]
    },
    {
      "cell_type": "code",
      "source": [
        "temp_agg_df = (df\n",
        " .withColumn(\"surname\",\n",
        "             F.split('employee_name',\"\\s\")\n",
        " .getItem(1))\n",
        " .withColumn(\"fname\",\n",
        "             F.split('employee_name',\"\\s\")\n",
        " .getItem(0))\n",
        " .groupBy(\"surname\")\n",
        " .agg(max(\"salary\")\n",
        "  .alias(\"max_salary_by_surname\"),\n",
        "  F.count(lit(\"\"))\n",
        "  .alias(\"count_employees\")\n",
        "      )\n",
        " )"
      ],
      "metadata": {
        "id": "XVQFOaMahXdX"
      },
      "execution_count": 111,
      "outputs": []
    },
    {
      "cell_type": "code",
      "source": [
        "temp_agg_df.join(df, on =temp_agg_df['max_salary_by_surname']== df[\"salary\"], how='left').show()"
      ],
      "metadata": {
        "id": "oHAYgZTPtiT0",
        "outputId": "7db297e7-3763-42cc-d5c7-9b006cb20d55",
        "colab": {
          "base_uri": "https://localhost:8080/"
        }
      },
      "execution_count": 112,
      "outputs": [
        {
          "output_type": "stream",
          "name": "stdout",
          "text": [
            "+---------+---------------------+---------------+----------------+----------+------+\n",
            "|  surname|max_salary_by_surname|count_employees|   employee_name|department|salary|\n",
            "+---------+---------------------+---------------+----------------+----------+------+\n",
            "|      Bow|                 6627|              1|     Anthony Bow|Accounting|  6627|\n",
            "|    Jones|                10586|              1|     Barry Jones|       SCM| 10586|\n",
            "|   Bondur|                11472|              2|   Gerard Bondur|Accounting| 11472|\n",
            "|   Murphy|                 8435|              1|    Diane Murphy|Accounting|  8435|\n",
            "| Castillo|                11303|              1| Pamela Castillo|       SCM| 11303|\n",
            "| Firrelli|                 9181|              2|  Julie Firrelli|     Sales|  9181|\n",
            "|   Vanauf|                10563|              1|   George Vanauf|     Sales| 10563|\n",
            "|      Yue|                 6660|              1|  Foon Yue Tseng|     Sales|  6660|\n",
            "|Patterson|                 9998|              3|  Mary Patterson|Accounting|  9998|\n",
            "| Thompson|                 5186|              1| Leslie Thompson|        IT|  5186|\n",
            "| Jennings|                 8113|              1| Leslie Jennings|        IT|  8113|\n",
            "|     Bott|                11798|              1|      Larry Bott|       SCM| 11798|\n",
            "|Hernandez|                 6949|              1|Gerard Hernandez|       SCM|  6949|\n",
            "+---------+---------------------+---------------+----------------+----------+------+\n",
            "\n"
          ]
        }
      ]
    },
    {
      "cell_type": "code",
      "source": [],
      "metadata": {
        "id": "pqBytejKtN7J"
      },
      "execution_count": null,
      "outputs": []
    },
    {
      "cell_type": "code",
      "source": [],
      "metadata": {
        "id": "cDJIcp1ekIwQ"
      },
      "execution_count": null,
      "outputs": []
    },
    {
      "cell_type": "code",
      "source": [],
      "metadata": {
        "id": "kf10PQV2i7Dm"
      },
      "execution_count": null,
      "outputs": []
    }
  ],
  "metadata": {
    "colab": {
      "provenance": [],
      "include_colab_link": true
    },
    "kernelspec": {
      "display_name": "Python 3",
      "name": "python3"
    },
    "language_info": {
      "name": "python"
    }
  },
  "nbformat": 4,
  "nbformat_minor": 0
}