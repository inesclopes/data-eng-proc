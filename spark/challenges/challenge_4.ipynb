{
  "cells": [
    {
      "cell_type": "markdown",
      "metadata": {
        "colab_type": "text",
        "id": "view-in-github"
      },
      "source": [
        "<a href=\"https://colab.research.google.com/github/lucprosa/dataeng-basic-course/blob/main/spark/challenges/challenge_4.ipynb\" target=\"_parent\"><img src=\"https://colab.research.google.com/assets/colab-badge.svg\" alt=\"Open In Colab\"/></a>"
      ]
    },
    {
      "cell_type": "markdown",
      "metadata": {
        "id": "d9LeYFsPTjAb"
      },
      "source": [
        "# Setting up PySpark"
      ]
    },
    {
      "cell_type": "code",
      "execution_count": 1,
      "metadata": {
        "colab": {
          "base_uri": "https://localhost:8080/"
        },
        "id": "uYXeODL0T1fO",
        "outputId": "c410e46c-4a50-43aa-926f-d0417c6280d2"
      },
      "outputs": [
        {
          "name": "stderr",
          "output_type": "stream",
          "text": [
            "24/12/02 00:27:18 WARN Utils: Your hostname, Iness-MacBook-Pro.local resolves to a loopback address: 127.0.0.1; using 192.168.1.9 instead (on interface en0)\n",
            "24/12/02 00:27:18 WARN Utils: Set SPARK_LOCAL_IP if you need to bind to another address\n",
            "Setting default log level to \"WARN\".\n",
            "To adjust logging level use sc.setLogLevel(newLevel). For SparkR, use setLogLevel(newLevel).\n",
            "24/12/02 00:27:18 WARN NativeCodeLoader: Unable to load native-hadoop library for your platform... using builtin-java classes where applicable\n",
            "24/12/02 00:27:19 WARN Utils: Service 'SparkUI' could not bind on port 4040. Attempting port 4041.\n",
            "24/12/02 00:27:19 WARN Utils: Service 'SparkUI' could not bind on port 4041. Attempting port 4042.\n",
            "24/12/02 00:27:19 WARN Utils: Service 'SparkUI' could not bind on port 4042. Attempting port 4043.\n"
          ]
        }
      ],
      "source": [
        "\n",
        "from pyspark.sql import DataFrame, SparkSession\n",
        "from pyspark.sql.functions import *\n",
        "import pyspark.sql.functions as F\n",
        "from pyspark.sql.types import *\n",
        "\n",
        "spark = SparkSession.builder.master('local').appName('Read').getOrCreate()"
      ]
    },
    {
      "cell_type": "code",
      "execution_count": 21,
      "metadata": {},
      "outputs": [],
      "source": [
        "df=(spark.read.format(\"parquet\")\n",
        ".load(\"./content/lake/gold/vehicles_enriched/*\"))\n"
      ]
    },
    {
      "cell_type": "code",
      "execution_count": 22,
      "metadata": {},
      "outputs": [
        {
          "name": "stdout",
          "output_type": "stream",
          "text": [
            "+-------+--------+--------------+-------+---------+-------+---------+----------+--------+---------------------+--------+-----+-------+-------------------+--------------------+--------------------+--------------------+----------+\n",
            "|bearing|block_id|current_status|     id| latitude|line_id|longitude|pattern_id|route_id|schedule_relationship|shift_id|speed|stop_id|          timestamp|             trip_id|           long_name| municipalities_name|      date|\n",
            "+-------+--------+--------------+-------+---------+-------+---------+----------+--------+---------------------+--------+-----+-------+-------------------+--------------------+--------------------+--------------------+----------+\n",
            "|      0|    1066|    STOPPED_AT|42|1066|38.972134|   2740|-9.419469|  2740_2_2|  2740_2|            SCHEDULED|   43745|  0.0| 080563|2024-12-01 23:17:57|2740_2_2|171|1|22...|Ericeira (Termina...|     [Mafra, Lisboa]|2024-12-01|\n",
            "|      0|    1210|    STOPPED_AT|42|1210|38.816326|   2753|-9.154766|  2753_0_1|  2753_0|            SCHEDULED|   46193|  0.0| 070521|2024-12-01 23:18:06|2753_0_1|171|1|23...|Lisboa (C. Grande...|[Lisboa, Odivelas...|2024-12-01|\n",
            "+-------+--------+--------------+-------+---------+-------+---------+----------+--------+---------------------+--------+-----+-------+-------------------+--------------------+--------------------+--------------------+----------+\n",
            "only showing top 2 rows\n",
            "\n"
          ]
        }
      ],
      "source": [
        "#Check data \n",
        "df.show(2)"
      ]
    },
    {
      "cell_type": "code",
      "execution_count": 12,
      "metadata": {},
      "outputs": [],
      "source": [
        "analysis_df = (df\n",
        "               .withColumn('municipalities_name', \n",
        "                           explode(df.municipalities_name)\n",
        "                           )\n",
        "               .groupBy('municipalities_name')\n",
        "               .agg(\n",
        "                   avg('speed').alias('average_speed'),\n",
        "                   sum('speed').alias('sum_speed'),\n",
        "                   count('id').alias('vehicle_count')\n",
        "                   )\n",
        "                )"
      ]
    },
    {
      "cell_type": "code",
      "execution_count": 20,
      "metadata": {},
      "outputs": [
        {
          "name": "stdout",
          "output_type": "stream",
          "text": [
            "What are the top 3 municipalities by vehicles routes?\n",
            "+-------------------+------------------+------------------+-------------+\n",
            "|municipalities_name|     average_speed|         sum_speed|vehicle_count|\n",
            "+-------------------+------------------+------------------+-------------+\n",
            "|             Lisboa|  6.13675213777102| 398.8888889551163|           65|\n",
            "|             Loures| 6.980286698187551| 216.3888876438141|           31|\n",
            "|             Sintra|3.7547892660930238|108.88888871669769|           29|\n",
            "+-------------------+------------------+------------------+-------------+\n",
            "only showing top 3 rows\n",
            "\n",
            "What are the top 3 municipalities with higher vehicle speed on average?\n",
            "+-------------------+-----------------+-----------------+-------------+\n",
            "|municipalities_name|    average_speed|        sum_speed|vehicle_count|\n",
            "+-------------------+-----------------+-----------------+-------------+\n",
            "|            Palmela| 8.41269862651825|58.88889038562775|            7|\n",
            "|              Moita|8.148147900899252|48.88888740539551|            6|\n",
            "|            Montijo| 7.94444432258606| 79.4444432258606|           10|\n",
            "+-------------------+-----------------+-----------------+-------------+\n",
            "only showing top 3 rows\n",
            "\n",
            "+-------------------+-----------------+-----------------+-------------+\n",
            "|municipalities_name|    average_speed|        sum_speed|vehicle_count|\n",
            "+-------------------+-----------------+-----------------+-------------+\n",
            "|             Lisboa| 6.13675213777102|398.8888889551163|           65|\n",
            "|             Loures|6.980286698187551|216.3888876438141|           31|\n",
            "|           Odivelas|5.668724280816537|153.0555555820465|           27|\n",
            "+-------------------+-----------------+-----------------+-------------+\n",
            "only showing top 3 rows\n",
            "\n"
          ]
        }
      ],
      "source": [
        "print(\"What are the top 3 municipalities by vehicles routes?\")\n",
        "analysis_df.sort(desc('vehicle_count') ).show(3)\n",
        "print(\"What are the top 3 municipalities with higher vehicle speed on average?\")\n",
        "analysis_df.sort(desc('average_speed') ).show(3)\n",
        "analysis_df.sort(desc('sum_speed') ).show(3)"
      ]
    },
    {
      "cell_type": "markdown",
      "metadata": {
        "id": "BOA_wQSmLd9z"
      },
      "source": [
        "# CHALLENGE 4\n",
        "##  Analyze data\n",
        "\n",
        "- Query table \"vehicles_enriched\" in gold layer\n",
        "- Aggregate data by municipality_name (array)\n",
        "- Calculate:\n",
        "  - count of vehicles (id) that pass through that municipality\n",
        "  - sum speed of vehicles\n",
        "\n",
        "Questions:\n",
        "  - What are the top 3 municipalities by vehicles routes?\n",
        "  - What are the top 3 municipalities with higher vehicle speed on average?\n",
        "\n",
        "\n",
        "Tips:\n",
        "- explode array into rows -> https://spark.apache.org/docs/latest/api/python/reference/pyspark.sql/api/pyspark.sql.functions.explode.html\n"
      ]
    },
    {
      "cell_type": "code",
      "execution_count": null,
      "metadata": {},
      "outputs": [],
      "source": []
    }
  ],
  "metadata": {
    "colab": {
      "include_colab_link": true,
      "provenance": []
    },
    "kernelspec": {
      "display_name": "Python 3",
      "name": "python3"
    },
    "language_info": {
      "name": "python"
    }
  },
  "nbformat": 4,
  "nbformat_minor": 0
}
