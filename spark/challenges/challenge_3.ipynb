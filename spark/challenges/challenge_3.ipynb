{
  "cells": [
    {
      "cell_type": "code",
      "execution_count": 1,
      "metadata": {},
      "outputs": [
        {
          "name": "stderr",
          "output_type": "stream",
          "text": [
            "24/12/01 23:53:17 WARN Utils: Your hostname, Iness-MacBook-Pro.local resolves to a loopback address: 127.0.0.1; using 192.168.1.9 instead (on interface en0)\n",
            "24/12/01 23:53:17 WARN Utils: Set SPARK_LOCAL_IP if you need to bind to another address\n",
            "Setting default log level to \"WARN\".\n",
            "To adjust logging level use sc.setLogLevel(newLevel). For SparkR, use setLogLevel(newLevel).\n",
            "24/12/01 23:53:18 WARN NativeCodeLoader: Unable to load native-hadoop library for your platform... using builtin-java classes where applicable\n",
            "24/12/01 23:53:18 WARN Utils: Service 'SparkUI' could not bind on port 4040. Attempting port 4041.\n",
            "24/12/01 23:53:18 WARN Utils: Service 'SparkUI' could not bind on port 4041. Attempting port 4042.\n"
          ]
        }
      ],
      "source": [
        "\n",
        "from pyspark.sql import DataFrame, SparkSession\n",
        "from pyspark.sql.functions import *\n",
        "import pyspark.sql.functions as F\n",
        "from pyspark.sql.types import *\n",
        "\n",
        "spark = SparkSession.builder.master('local').appName('Enrich').getOrCreate()"
      ]
    },
    {
      "cell_type": "code",
      "execution_count": 2,
      "metadata": {},
      "outputs": [
        {
          "name": "stderr",
          "output_type": "stream",
          "text": [
            "                                                                                \r"
          ]
        }
      ],
      "source": [
        "lines_result=spark.read.format(\"parquet\").load(\"./content/lake/silver/lines/*\")\n",
        "vehicles_result = spark.read.format(\"parquet\").load(\"./content/lake/silver/vehicles/*\")\n",
        "municipalities_result = spark.read.format(\"parquet\").load(\"./content/lake/silver/municipalities/*\")"
      ]
    },
    {
      "cell_type": "code",
      "execution_count": 68,
      "metadata": {},
      "outputs": [
        {
          "name": "stdout",
          "output_type": "stream",
          "text": [
            "+-------+----------+----+--------------------+--------------------+--------------+--------------------+--------+----------+----------+\n",
            "|  color|facilities|  id|          localities|           long_name|municipalities|            patterns|  routes|short_name|text_color|\n",
            "+-------+----------+----+--------------------+--------------------+--------------+--------------------+--------+----------+----------+\n",
            "|#C61D23|        []|1001|[Alfragide, Amado...|Alfragide (Estr S...|        [1115]|[1001_0_1, 1001_0_2]|[1001_0]|      1001|   #FFFFFF|\n",
            "|#C61D23|        []|1002|[Reboleira, Amado...|Reboleira (Estaçã...|        [1115]|          [1002_0_3]|[1002_0]|      1002|   #FFFFFF|\n",
            "+-------+----------+----+--------------------+--------------------+--------------+--------------------+--------+----------+----------+\n",
            "only showing top 2 rows\n",
            "\n",
            "+-------+---------+--------------+-------+---------+-------+---------+----------+--------+---------------------+--------+---------+-------+-------------------+--------------------+\n",
            "|bearing| block_id|current_status|     id| latitude|line_id|longitude|pattern_id|route_id|schedule_relationship|shift_id|    speed|stop_id|          timestamp|             trip_id|\n",
            "+-------+---------+--------------+-------+---------+-------+---------+----------+--------+---------------------+--------+---------+-------+-------------------+--------------------+\n",
            "|      0|3_3009-31|    STOPPED_AT|41|1381|38.740883|   1003|-9.269622|  1003_0_2|  1003_0|            SCHEDULED|    3050|      0.0| 030171|2024-12-01 23:17:08|1003_0_2_2230_225...|\n",
            "|      0|3_3006-31|    STOPPED_AT|41|1258|38.774246|   1006|-9.237525|  1006_0_1|  1006_0|            SCHEDULED|    3060|3.3333333| 030199|2024-12-01 23:18:08|1006_0_1_2300_232...|\n",
            "+-------+---------+--------------+-------+---------+-------+---------+----------+--------+---------------------+--------+---------+-------+-------------------+--------------------+\n",
            "only showing top 2 rows\n",
            "\n",
            "+-----------+-------------+----+--------+------+---------+-----------+\n",
            "|district_id|district_name|  id|    name|prefix|region_id|region_name|\n",
            "+-----------+-------------+----+--------+------+---------+-----------+\n",
            "|         11|       Lisboa|1107|  Loures|    07|    PT170|        AML|\n",
            "|         15|      Setúbal|1504|Barreiro|    04|    PT170|        AML|\n",
            "+-----------+-------------+----+--------+------+---------+-----------+\n",
            "only showing top 2 rows\n",
            "\n"
          ]
        }
      ],
      "source": [
        "# Check data for debug\n",
        "lines_result.sort('id').show(2)\n",
        "vehicles_result.sort('line_id').show(2)\n",
        "municipalities_result.show(2)"
      ]
    },
    {
      "cell_type": "code",
      "execution_count": 26,
      "metadata": {},
      "outputs": [],
      "source": [
        "# Prefix the column names to avoid ambiguous columns (ex: id)\n",
        "df = (vehicles_result\n",
        "      .select(\n",
        "          [F.col(c).alias(\"vh_\"+c) \n",
        "               for c in vehicles_result.columns]\n",
        "               )\n",
        "        )"
      ]
    },
    {
      "cell_type": "code",
      "execution_count": 41,
      "metadata": {},
      "outputs": [],
      "source": [
        "#Add long_name and municipalities from lines\n",
        "df_lines = (df\n",
        "            .join(lines_result,\n",
        "                  df[\"vh_line_id\"] == lines_result[\"id\"],\n",
        "                  how = \"inner\")\n",
        "            .select(df.columns+['long_name','municipalities']))"
      ]
    },
    {
      "cell_type": "code",
      "execution_count": 63,
      "metadata": {},
      "outputs": [],
      "source": [
        "#Explode data to turn ids into names and re-group \n",
        "temp_df = df_lines.withColumn('municipalities', \n",
        "                              explode(df_lines.municipalities)\n",
        "                              )\n",
        "\n",
        "enriched_data = (temp_df\n",
        "                 .join(municipalities_result,\n",
        "                       temp_df.municipalities==municipalities_result.id,\n",
        "                       how='inner')\n",
        "                 .groupBy(df.columns+['long_name'])\n",
        "                 .agg(array_agg('name').alias('municipalities_name'))\n",
        "                 .withColumn(\"date\", expr(\"date(vh_timestamp)\"))\n",
        "                )"
      ]
    },
    {
      "cell_type": "code",
      "execution_count": 69,
      "metadata": {},
      "outputs": [],
      "source": [
        "#Remove prefix from columns\n",
        "cleaned_columns = (enriched_data\n",
        "                   .select(\n",
        "                       [F.col(c).alias(c.replace('vh_','')) for c in enriched_data.columns]\n",
        "                       )\n",
        "                       )"
      ]
    },
    {
      "cell_type": "code",
      "execution_count": 67,
      "metadata": {},
      "outputs": [],
      "source": [
        "#Save gold layer\n",
        "(cleaned_columns\n",
        " .coalesce(1).write.mode(\"overwrite\")\n",
        " .format(\"parquet\")\n",
        " .save(\"./content/lake/gold/vehicles_enriched\"))"
      ]
    },
    {
      "cell_type": "markdown",
      "metadata": {
        "colab_type": "text",
        "id": "view-in-github"
      },
      "source": [
        "<a href=\"https://colab.research.google.com/github/lucprosa/dataeng-basic-course/blob/main/spark/challenges/challenge_3.ipynb\" target=\"_parent\"><img src=\"https://colab.research.google.com/assets/colab-badge.svg\" alt=\"Open In Colab\"/></a>"
      ]
    },
    {
      "cell_type": "markdown",
      "metadata": {},
      "source": [
        "# CHALLENGE 3\n",
        "##  Implement ENRICH process\n",
        "- Set up path in the \"lake\"\n",
        "  - !mkdir -p /content/lake/gold\n",
        "\n",
        "- Read data from SILVER layer\n",
        "  - Paths:\n",
        "    - vehicles - path: /content/lake/silver/vehicles\n",
        "    - lines - path: /content/lake/silver/lines\n",
        "    - municipalities - path: /content/lake/silver/municipalities\n",
        "  - Use StructFields to enforce schema\n",
        "\n",
        "- Enrichment\n",
        "  - Enrich vehicles dataset with information from the line and municipalities\n",
        "    - join vehicles with lines and municipalities\n",
        "      - select all columns from vehicles + lines.long_name (name: line_name, format:string) + municipalities.name (name: municipality_name, format: array)\n",
        "      - Note that \"municipalities.name\" is an array\n",
        "\n",
        "- Write data as PARQUET into the GOLD layer (/content/lake/gold)\n",
        "  - Dataset name: vehicles_enriched\n",
        "  - Partition \"vehicles_enriched\" by \"date\" column\n",
        "  - Paths:\n",
        "    - vehicles - path: /content/lake/gold/vehicles_enriched\n",
        "  - Make sure there is only 1 single parquet created\n",
        "  - Use overwrite as write mode"
      ]
    },
    {
      "cell_type": "markdown",
      "metadata": {
        "id": "d9LeYFsPTjAb"
      },
      "source": [
        "# Setting up PySpark"
      ]
    },
    {
      "cell_type": "code",
      "execution_count": null,
      "metadata": {
        "colab": {
          "base_uri": "https://localhost:8080/"
        },
        "id": "uYXeODL0T1fO",
        "outputId": "c410e46c-4a50-43aa-926f-d0417c6280d2"
      },
      "outputs": [
        {
          "name": "stdout",
          "output_type": "stream",
          "text": [
            "Requirement already satisfied: pyspark in /usr/local/lib/python3.10/dist-packages (3.5.3)\n",
            "Requirement already satisfied: py4j==0.10.9.7 in /usr/local/lib/python3.10/dist-packages (from pyspark) (0.10.9.7)\n"
          ]
        }
      ],
      "source": [
        "%pip install pyspark"
      ]
    }
  ],
  "metadata": {
    "colab": {
      "include_colab_link": true,
      "provenance": []
    },
    "kernelspec": {
      "display_name": "Python 3",
      "name": "python3"
    },
    "language_info": {
      "name": "python"
    }
  },
  "nbformat": 4,
  "nbformat_minor": 0
}
